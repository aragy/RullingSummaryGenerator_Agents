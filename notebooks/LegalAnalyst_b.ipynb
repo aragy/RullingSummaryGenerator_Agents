{
 "cells": [
  {
   "cell_type": "code",
   "execution_count": 1,
   "metadata": {},
   "outputs": [],
   "source": [
    "import os\n",
    "import time\n",
    "\n",
    "from langchain_openai import ChatOpenAI\n",
    "from langchain.schema import HumanMessage, SystemMessage, AIMessage\n",
    "from typing import List, Dict\n",
    "from dotenv import load_dotenv\n",
    "from langchain_community.llms import Ollama"
   ]
  },
  {
   "cell_type": "code",
   "execution_count": 2,
   "metadata": {},
   "outputs": [
    {
     "name": "stderr",
     "output_type": "stream",
     "text": [
      "/tmp/ipykernel_2981807/2869663664.py:1: LangChainDeprecationWarning: The class `Ollama` was deprecated in LangChain 0.3.1 and will be removed in 1.0.0. An updated version of the class exists in the :class:`~langchain-ollama package and should be used instead. To use it run `pip install -U :class:`~langchain-ollama` and import as `from :class:`~langchain_ollama import OllamaLLM``.\n",
      "  llm = Ollama(model=\"llama3.1\")\n"
     ]
    }
   ],
   "source": [
    "llm = Ollama(model=\"llama3.1\")"
   ]
  },
  {
   "cell_type": "code",
   "execution_count": 3,
   "metadata": {},
   "outputs": [],
   "source": [
    "class Agent:\n",
    "    def __init__(self, name: str, role: str, skills: List[str]):\n",
    "        self.name = name\n",
    "        self.role = role\n",
    "        self.skills = skills\n",
    "        self.llm = llm\n",
    "\n",
    "    def process(self, task: str, context: List[Dict] = None) -> str:\n",
    "        messages = [\n",
    "            SystemMessage(content=f\"Você é {self.name}, um {self.role}. Suas habilidades incluem: {', '.join(self.skills)}. Responda à tarefa com base em seu papel e habilidades.\")\n",
    "        ]\n",
    "        \n",
    "        # Incluir as recomendações legais no contexto\n",
    "        recomendacoes = \"\"\"\n",
    "        Art. 1º Recomendar que as ementas de acórdãos dos tribunais\n",
    "        observem a seguinte estrutura e divisão: Cabeçalho (ou Indexação); I. Caso em\n",
    "        exame; II. Questão em discussão; III. Razões de decidir; IV. Dispositivo e tese. Ao\n",
    "        final, devem ser mencionadas a legislação relevante citada e a jurisprudência\n",
    "        relevante citada.\n",
    "        Art. 2º O cabeçalho deverá conter as seguintes informações\n",
    "        sequenciais, preferencialmente com máximo de quatro linhas e formatação em fonte\n",
    "        com efeito versalete: área do direito; tipo de ação; tema geral; algum complemento\n",
    "        necessário; e solução do caso.\n",
    "        Art. 3º Os demais itens que comporão a ementa deverão observar a\n",
    "        seguinte configuração:\n",
    "        I – caso em exame, contendo a sumária descrição da hipótese (fatos\n",
    "        relevantes e pedido);\n",
    "        II – questão em discussão, contendo breve relato da questão ou\n",
    "        questões controvertidas objeto da apreciação judicial;\n",
    "        III – razões de decidir, contendo a solução proposta e sucinta\n",
    "        motivação; e\n",
    "        IV – Dispositivo e tese, contendo a conclusão do julgamento\n",
    "        (provimento do recurso, desprovimento do recurso) e tese, quando seja o caso.\n",
    "        § 1º Ao final, a ementa deverá fazer remissão à legislação e à\n",
    "        jurisprudência que foram citadas no texto e consideradas relevantes para a solução\n",
    "        do caso.\n",
    "        § 2° A citação de jurisprudência deve conter menção aos seguintes\n",
    "        elementos: tribunal prolator, classe da ação, número do processo, relator, unidade\n",
    "        do tribunal e data do julgamento.\n",
    "\n",
    "        seguir o seguinte modelo: \n",
    "\n",
    "        Ementa: Ramo do Direito. Classe processual. Frase ou palavras que\n",
    "        indiquem o assunto principal. Conclusão.\n",
    "        I. Caso em exame\n",
    "        1. Apresentação do caso, com a indicação dos fatos relevantes, do\n",
    "        pedido principal da ação ou do recurso e, se for o caso, da decisão\n",
    "        recorrida.\n",
    "        II. Questão em discussão\n",
    "        2. ex. A questão em discussão consiste em (...). / Há duas questões em\n",
    "        discussão: (i) saber se (...); e (ii) saber se (...). (incluir todas as\n",
    "        questões, com os seus respectivos fatos e fundamentos, utilizando-se\n",
    "        de numeração em romano, letras minúsculas e entre parênteses).\n",
    "        III. Razões de decidir\n",
    "        3. Exposição do fundamento de maneira resumida (cada fundamento\n",
    "        deve integrar um item).\n",
    "        4. Exposição de outro fundamento de maneira resumida.\n",
    "        IV. Dispositivo e tese\n",
    "        5. Ex: Pedido procedente/improcedente. Recurso provido/desprovido.\n",
    "        Tese de julgamento: frases objetivas das conclusões da decisão,\n",
    "        ordenadas por numerais cardinais entre aspas e sem itálico. “1. [texto\n",
    "        da tese]. 2. [texto da tese]” (quando houver tese).\n",
    "        _________\n",
    "        Dispositivos relevantes citados: ex.: CF/1988, art. 1º, III e IV; CC, arts.\n",
    "        1.641, II, e 1.639, § 2º.\n",
    "        Jurisprudência relevante citada: ex.: STF, ADPF nº 130, Rel. Min. Ayres\n",
    "        Britto, Plenário, j. 30.04.2009.\n",
    "\n",
    "\n",
    "\n",
    "        \"\"\"\n",
    "        messages.append(SystemMessage(content=f\"Recomendações para a elaboração da ementa: {recomendacoes}\"))\n",
    "        \n",
    "        if context:\n",
    "            for msg in context:\n",
    "                if msg['role'] == 'human':\n",
    "                    messages.append(HumanMessage(content=msg['content']))\n",
    "                elif msg['role'] == 'ai':\n",
    "                    messages.append(AIMessage(content=msg['content']))\n",
    "        \n",
    "        messages.append(HumanMessage(content=task))\n",
    "        response = self.llm.invoke(messages)\n",
    "        return response#.content"
   ]
  },
  {
   "cell_type": "code",
   "execution_count": 4,
   "metadata": {},
   "outputs": [],
   "source": [
    "class LegalAnalysisAgent(Agent):\n",
    "    def __init__(self):\n",
    "        super().__init__(\"Lex\", \"Especialista em Análise Jurídica\", [\"análise de decisões judiciais\", \"extração de informações legais\", \"conhecimento de terminologia jurídica\"])\n"
   ]
  },
  {
   "cell_type": "code",
   "execution_count": 5,
   "metadata": {},
   "outputs": [],
   "source": [
    "class EmentaDraftingAgent(Agent):\n",
    "    def __init__(self):\n",
    "        super().__init__(\"Ementor\", \"Especialista em Redação de Ementas\", [\"redação jurídica\", \"padronização de documentos\", \"estruturação de informações\"])\n"
   ]
  },
  {
   "cell_type": "code",
   "execution_count": 6,
   "metadata": {},
   "outputs": [],
   "source": [
    "def analisar_decisao(legal_agent, decisao: str, contexto: list) -> list:\n",
    "    print(\"Agente Jurídico: Analisando a decisão judicial...\")\n",
    "    analise_task = f\"Analise a seguinte decisão judicial e extraia as informações relevantes para a elaboração da ementa conforme as recomendações: {decisao}\"\n",
    "    analise_result = legal_agent.process(analise_task)\n",
    "    contexto.append({\"role\": \"ai\", \"content\": f\"Análise Jurídica: {analise_result}\"})\n",
    "    print(f\" Análise realizada: {analise_result[:100]}...\\n\")\n",
    "    return contexto\n"
   ]
  },
  {
   "cell_type": "code",
   "execution_count": 7,
   "metadata": {},
   "outputs": [],
   "source": [
    "def extrair_informacoes(legal_agent, decisao: str, contexto: list) -> list:\n",
    "    print(\"Agente Jurídico: Extraindo informações para a ementa...\")\n",
    "    extracao_task = (\n",
    "        \"Com base na análise anterior, extraia as informações para cada seção da ementa: \"\n",
    "        \"Cabeçalho, I. Caso em exame, II. Questão em discussão, III. Razões de decidir, \"\n",
    "        \"IV. Dispositivo e tese, Legislação relevante citada, Jurisprudência relevante citada.\"\n",
    "    )\n",
    "    extracao_result = legal_agent.process(extracao_task, contexto)\n",
    "    contexto.append({\"role\": \"ai\", \"content\": f\"Informações Extraídas: {extracao_result}\"})\n",
    "    print(f\"🔍 Informações extraídas: {extracao_result[:100]}...\\n\")\n",
    "    return contexto\n"
   ]
  },
  {
   "cell_type": "code",
   "execution_count": 8,
   "metadata": {},
   "outputs": [],
   "source": [
    "def redigir_ementa(ementa_agent, decisao: str, contexto: list) -> list:\n",
    "    print(\"✍️ Agente de Ementa: Redigindo a ementa...\")\n",
    "    redacao_task = (\n",
    "        \"Utilize as informações extraídas para redigir cada seção da ementa conforme as recomendações e o modelo fornecido.\"\n",
    "    )\n",
    "    redacao_result = ementa_agent.process(redacao_task, contexto)\n",
    "    contexto.append({\"role\": \"ai\", \"content\": f\"Ementa Redigida: {redacao_result}\"})\n",
    "    print(f\"📄 Ementa redigida: {redacao_result[:100]}...\\n\")\n",
    "    return contexto\n"
   ]
  },
  {
   "cell_type": "code",
   "execution_count": 9,
   "metadata": {},
   "outputs": [],
   "source": [
    "def compilar_ementa(ementa_agent, decisao: str, contexto: list) -> str:\n",
    "    print(\"Agente de Ementa: Compilando e revisando a ementa final...\")\n",
    "    compilacao_task = \"Revise a ementa redigida e certifique-se de que está em conformidade com as recomendações e o modelo padrão.\"\n",
    "    ementa_final = ementa_agent.process(compilacao_task, contexto)\n",
    "    return ementa_final\n"
   ]
  },
  {
   "cell_type": "code",
   "execution_count": 10,
   "metadata": {},
   "outputs": [],
   "source": [
    "class EmentaCollaborationSystem:\n",
    "    def __init__(self):\n",
    "        self.legal_agent = LegalAnalysisAgent()\n",
    "        self.ementa_agent = EmentaDraftingAgent()\n",
    "\n",
    "    def gerar_ementa(self, decisao: str, timeout: int = 300) -> str:\n",
    "        print(f\"\\nIniciando colaboração para gerar a ementa da decisão judicial.\\n\")\n",
    "        \n",
    "        start_time = time.time()\n",
    "        contexto = []\n",
    "        \n",
    "        steps = [\n",
    "            (analisar_decisao, self.legal_agent),\n",
    "            (extrair_informacoes, self.legal_agent),\n",
    "            (redigir_ementa, self.ementa_agent),\n",
    "            (compilar_ementa, self.ementa_agent)\n",
    "        ]\n",
    "        \n",
    "        for step_func, agent in steps:\n",
    "            if time.time() - start_time > timeout:\n",
    "                return \"Operação excedeu o tempo limite. O processo demorou muito para ser concluído.\"\n",
    "            try:\n",
    "                result = step_func(agent, decisao, contexto)\n",
    "                if isinstance(result, str):\n",
    "                    return result  # Esta é a ementa final\n",
    "                contexto = result\n",
    "            except Exception as e:\n",
    "                return f\"Erro durante a colaboração: {str(e)}\"\n",
    "        \n",
    "        print(\"\\n Colaboração concluída. Ementa final compilada.\\n\")\n",
    "        return contexto[-1][\"content\"]"
   ]
  },
  {
   "cell_type": "code",
   "execution_count": 11,
   "metadata": {},
   "outputs": [],
   "source": [
    "ementa_system = EmentaCollaborationSystem()"
   ]
  },
  {
   "cell_type": "code",
   "execution_count": 12,
   "metadata": {},
   "outputs": [],
   "source": [
    "decisao_judicial = \"\"\"\n",
    "\n",
    "EMBARGOS DE DECLARAÇÃO NO AGRAVO EM EXECUÇÃO PENAL nº 0600051-93.2023.6.12.0007\t\n",
    "EMBARGANTE: RONALDO ANTONIO DA COSTA\n",
    "Advogados: LEONARDO SAAD COSTA - OAB MS9717-A \n",
    " LUCAS MEDEIROS DUARTE - OAB MS18353-A \n",
    " RAFAEL MEDEIROS DUARTE - OAB MS13038-A \n",
    " PAULO HENRIQUE DE ALMEIDA AMORIM - OAB MS20027-A \n",
    "\n",
    "EMBARGADO: MINISTÉRIO PÚBLICO ELEITORAL  \n",
    "Relatora: Juíza SANDRA REGINA DA SILVA RIBEIRO ARTIOLI\n",
    "Procedência: Corumbá/MS\n",
    "\n",
    "RELATÓRIO\n",
    "\n",
    "Trata-se de embargos de declaração opostos por RONALDO ANTONIO DA COSTA contra o acórdão do TRE/MS (ID 12524916) que negou provimento ao agravo em execução manejado pelo ora embargante, alegando a existência de contradição e obscuridade na decisão recorrida, na medida em que “a atuação dos advogados subscritores se faz de maneira pro bono, ou seja, o embargante não efetuou/efetuará qualquer pagamento a título de honorários advocatícios” e que “no excerto em que sustenta não haver hipossuficiência no caso pela constatação de condenação do embargante pelo transporte ilegal de eleitores e corrupção eleitoral, isto porque os fatos se deram há mais de 10 anos e a hipossuficiência econômica deve ser analisada no momento exato do requerimento”.\n",
    "\n",
    "Remetidos os autos para esta Corte, e com vista dos autos, a Procuradoria Regional Eleitoral se manifestou pelo conhecimento dos embargos opostos e, no mérito, pela sua rejeição, devendo permanecer inalterado o acórdão do TRE/MS que negou provimento ao agravo em execução, “mantendo incólume a decisão que indeferiu o pedido de extinção da punibilidade do agravante”(ID 12544387).\n",
    "\n",
    "EMBARGOS DE DECLARAÇÃO NO AGRAVO EM EXECUÇÃO PENAL nº 0600051-93.2023.6.12.0007\t\n",
    "EMBARGANTE: RONALDO ANTONIO DA COSTA\n",
    "Advogados: LEONARDO SAAD COSTA - OAB MS9717-A \n",
    " LUCAS MEDEIROS DUARTE - OAB MS18353-A \n",
    " RAFAEL MEDEIROS DUARTE - OAB MS13038-A \n",
    " PAULO HENRIQUE DE ALMEIDA AMORIM - OAB MS20027-A \n",
    "\n",
    "EMBARGADO: MINISTÉRIO PÚBLICO ELEITORAL  \n",
    "Relatora: Juíza SANDRA REGINA DA SILVA RIBEIRO ARTIOLI\n",
    "Procedência: Corumbá/MS\n",
    "\n",
    "\n",
    "VOTO\n",
    "Atendidos os pressupostos de admissibilidade, o recurso deve ser conhecido. \n",
    "\n",
    "Os Embargos de Declaração estão previstos nos artigos 275, do Código Eleitoral e 1.022, do Código de Processo Civil e são admissíveis quando na decisão existir obscuridade, contradição, omissão ou erro material.\n",
    "\n",
    "No caso em tela, o candidato manejou agravo em execução penal (ID 12419949) contra decisão do juízo da execução penal (ID 12420010), que denegou o pedido de extinção da punibilidade ante a ausência de capacidade econômica para adimplemento da pena de multa. \n",
    "\n",
    "A decisão objeto dos presentes aclaratórios ficou assim ementada:\n",
    "\n",
    "AGRAVO EM EXECUÇÃO. EXTINÇÃO DA PUNIBILIDADE. PENDÊNCIA DE MULTA DECORRENTE DE CONDENAÇÃO CRIMINAL TRANSITADA EM JULGADO. IMPOSSIBILIDADE DE PAGAMENTO NÃO-COMPROVADA. MANUTENÇÃO DA SUSPENSÃO DOS DIREITOS POLÍTICOS NO CADASTRO DE ELEITORES. DESPROVIMENTO.\n",
    "1.\tA Resolução TSE nº 23.659/2021, prescreve que a normalização da situação eleitoral será efetivada quando cessar o impedimento que ocasionou a ressalva e, nas hipóteses de suspensão, estabelece constituírem documentos comprobatórios para a restauração dos direitos políticos, em se tratando de interditandos e condenados, a sentença judicial, a certidão do juízo competente ou outro documento, nos termos do art. 20, II, alínea a.\n",
    " \n",
    "2.\tEm recente assentada, o Colendo TSE, ao tempo em que reafirmou a tese sufragada nos julgados acima, entendeu que é possível, em caráter excepcional, restabelecer os direitos políticos, a despeito da existência de pena de multa inadimplida, quando evidenciadas as seguintes circunstâncias: [...] b) demonstração de hipossuficiência do eleitor para fins de pagamento da multa imposta na ação penal [...]. Precedente.\n",
    " \n",
    "3.\tO fato de o Agravante ter se mantido isento em relação à declaração de imposto de renda parece caminhar de encontro às evidências existentes nos próprios autos.\n",
    " \n",
    "4.\tNão obstante o cumprimento da prestação de serviços comprovado nos autos, resta óbice insuperável à regularização eleitoral pretendida, tendo em vista inequívoca subsistência da pena de multa.\n",
    " \n",
    "5.\tAgravo desprovido. Manutenção da decisão que indeferiu o pedido de extinção da punibilidade do apenado.\n",
    "\n",
    "\n",
    "Sustenta o embargante que “não foi observado pelo TRE/MS que a atuação dos advogados subscritores se faz de maneira pro bono, ou seja, o embargante não efetuou/efetuará qualquer pagamento a título de honorários advocatícios. Portanto, ao estabelecer que o embargante não aparenta hipossuficiência, em virtude de ser assistido por advogados ‘particulares’(...)” (ID 12529024).\n",
    "\n",
    "Em que pese o aduzido, da análise dos autos, não há qualquer indício da atuação pro bono dos patronos do embargante, sendo incoerente atribuir à Corte Eleitoral a responsabilidade de chegar a tal conclusão sem que houvesse acervo probatório do alegado juntado aos autos. \n",
    "\n",
    "Ademais, a tese de suposta obscuridade existente no acórdão, na medida em que “o acórdão, no excerto em que sustenta não haver hipossuficiência no caso pela constatação de condenação do embargante pelo transporte ilegal de eleitores e corrupção eleitoral, isto porque os fatos se deram há mais de 10 anos e a hipossuficiência econômica deve ser analisada no momento exato do requerimento”, também não merece prosperar. \n",
    "\n",
    " Isso porque a norma é objetiva e, apesar do conceito de hipossuficiência ser dinâmico, conforme aduzido pelo embargante, há maneiras diversas de se provar a ausência de capacidade financeira, o que não foi feito pelo embargante; pelo contrário. Apesar das inúmeras oportunidades que teve para firmar o convencimento do julgador, limitou-se a reiterar que a juntada das declarações de IR isentas seriam suficientes para provar sua hipossuficiência.\n",
    "\n",
    "Nesse contexto, ressalto que, apesar de o embargante sustentar que há vícios na decisão deste Tribunal, verifico que os presentes embargos foram opostos com o único intuito de adequar o julgado à sua interpretação, circunstância inadmissível no âmbito dessa via. \n",
    "\n",
    "Dito isso, reitero que o acórdão embargado fundamenta, de forma clara e precisa, a posição adotada diante dos fatos narrados e dos elementos probantes acostados aos autos, que foram exaustivamente analisados e discutidos. \n",
    "\n",
    "De fato, não se prestam os embargos de declaração a promover novo julgamento, por não se conformar o insurgente com a justeza da decisão. Entender que deveria ter sido interpretada tal ou qual matéria de acordo com os fundamentos do recorrente não é argumento capaz de viabilizar o manejo do presente recurso, ofertando o sistema processual meio de impugnação adequado para a apreciação da matéria ora debatida. Nessa linha, cito precedentes do colendo Tribunal Superior Eleitoral: \n",
    "\n",
    "EMBARGOS DE DECLARAÇÃO. REPRESENTAÇÃO. PROPAGANDA ELEITORAL ANTECIPADA. OMISSÃO, CONTRADIÇÃO OU OBSCURIDADE. AUSÊNCIA. MERO PREQUESTIONAMENTO DE DISPOSITIVOS CONSTITUCIONAIS. IMPOSSIBILIDADE. REJEIÇÃO. 1. O v. acórdão ora embargado examinou todas as questões pertinentes à representação, concluindo ter havido, no discurso proferido pelo Excelentíssimo Senhor Presidente da República, propaganda eleitoral antecipada em favor da pré-candidata Dilma Rousseff. 2. As supostas omissões apontadas pelo embargante denotam o mero inconformismo com os fundamentos adotados pelo v. acórdão embargado e o propósito de rediscutir matéria já decidida, providência inviável na via aclaratória, conforme jurisprudência pacífica desta c. Corte Superior. 3. É incabível a pretensão de mero prequestionamento de dispositivos constitucionais se não houver na decisão embargada omissão, obscuridade ou contradição. Precedentes. 4. Embargos de declaração rejeitados.\n",
    "(ED-AgR-Rp nº 205-74.2010.6.00.0000/DF, Acórdão de 16/06/10, Rel. Min. Aldir Passarinho Junior, DJE 03/08/10). \n",
    "\n",
    "EMBARGOS DE DECLARAÇÃO. AGRAVO REGIMENTAL. RECURSO ESPECIAL. AUSÊNCIA. INDICAÇÃO. OMISSÃO. CONTRADIÇÃO. OBSCURIDADE. 1. Embargos de declaração são admitidos para sanar omissão, obscuridade ou contradição no julgado (art. 275, I e II, CE). Não se prestam a promover novo julgamento da causa ou a forçar o ingresso na instância extraordinária se não houver vícios a serem supridos. 2. Embargos rejeitados. (ED-AgR-AI nº 280-16.2010.6.00.0000/MG, Acórdão de 26/08/10, Rel. Min. Marcelo Ribeiro, DJE 01/10/10)\n",
    "\n",
    "Assim, constatada a higidez do Acórdão de ID 12524916, e inexistente qualquer vício na decisão vergastada, voto pelo conhecimento dos embargos de declaração e, no mérito, pela sua rejeição, devendo permanecer incólume a decisão que indeferiu o pedido de extinção da punibilidade do agravante.\n",
    "\n",
    "É como voto.\n",
    "\n",
    "\n",
    "\"\"\""
   ]
  },
  {
   "cell_type": "code",
   "execution_count": 13,
   "metadata": {},
   "outputs": [
    {
     "name": "stdout",
     "output_type": "stream",
     "text": [
      "\n",
      "Iniciando colaboração para gerar a ementa da decisão judicial.\n",
      "\n",
      "Agente Jurídico: Analisando a decisão judicial...\n",
      " Análise realizada: Não, infelizmente....\n",
      "\n",
      "Agente Jurídico: Extraindo informações para a ementa...\n",
      "🔍 Informações extraídas: Com base nas recomendações do artigo 1º e na estrutura sugerida, podemos extrair as informações para...\n",
      "\n",
      "✍️ Agente de Ementa: Redigindo a ementa...\n",
      "📄 Ementa redigida: Com base nas recomendações e na estrutura sugerida, posso elaborar a seguinte ementa de acordo com o...\n",
      "\n",
      "Agente de Ementa: Compilando e revisando a ementa final...\n"
     ]
    }
   ],
   "source": [
    "ementa_final = ementa_system.gerar_ementa(decisao_judicial)\n"
   ]
  },
  {
   "cell_type": "code",
   "execution_count": 14,
   "metadata": {},
   "outputs": [],
   "source": [
    "with open(\"Output_b.txt\", \"w\") as text_file:\n",
    "    text_file.write(ementa_final)"
   ]
  }
 ],
 "metadata": {
  "kernelspec": {
   "display_name": ".venv",
   "language": "python",
   "name": "python3"
  },
  "language_info": {
   "codemirror_mode": {
    "name": "ipython",
    "version": 3
   },
   "file_extension": ".py",
   "mimetype": "text/x-python",
   "name": "python",
   "nbconvert_exporter": "python",
   "pygments_lexer": "ipython3",
   "version": "3.10.12"
  }
 },
 "nbformat": 4,
 "nbformat_minor": 2
}
